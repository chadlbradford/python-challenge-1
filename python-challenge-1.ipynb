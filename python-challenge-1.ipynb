{
 "cells": [
  {
   "cell_type": "code",
   "execution_count": 8,
   "metadata": {},
   "outputs": [],
   "source": [
    "menu = {\n",
    "    \"Snacks\": {\n",
    "        \"Cookie\": .99,\n",
    "        \"Banana\": .69,\n",
    "        \"Apple\": .49,\n",
    "        \"Granola bar\": 1.99\n",
    "    },\n",
    "    \"Meals\": {\n",
    "        \"Burrito\": 4.49,\n",
    "        \"Teriyaki Chicken\": 9.99,\n",
    "        \"Sushi\": 7.49,\n",
    "        \"Pad Thai\": 6.99,\n",
    "        \"Pizza\": {\n",
    "            \"Cheese\": 8.99,\n",
    "            \"Pepperoni\": 10.99,\n",
    "            \"Vegetarian\": 9.99\n",
    "        },\n",
    "        \"Burger\": {\n",
    "            \"Chicken\": 7.49,\n",
    "            \"Beef\": 8.49\n",
    "        }\n",
    "    },\n",
    "    \"Drinks\": {\n",
    "        \"Soda\": {\n",
    "            \"Small\": 1.99,\n",
    "            \"Medium\": 2.49,\n",
    "            \"Large\": 2.99\n",
    "        },\n",
    "        \"Tea\": {\n",
    "            \"Green\": 2.49,\n",
    "            \"Thai iced\": 3.99,\n",
    "            \"Irish breakfast\": 2.49\n",
    "        },\n",
    "        \"Coffee\": {\n",
    "            \"Espresso\": 2.99,\n",
    "            \"Flat white\": 2.99,\n",
    "            \"Iced\": 3.49\n",
    "        }\n",
    "    },\n",
    "    \"Dessert\": {\n",
    "        \"Chocolate lava cake\": 10.99,\n",
    "        \"Cheesecake\": {\n",
    "            \"New York\": 4.99,\n",
    "            \"Strawberry\": 6.49\n",
    "        },\n",
    "        \"Australian Pavlova\": 9.99,\n",
    "        \"Rice pudding\": 4.99,\n",
    "        \"Fried banana\": 4.49\n",
    "    }\n",
    "}"
   ]
  },
  {
   "cell_type": "code",
   "execution_count": 9,
   "metadata": {},
   "outputs": [
    {
     "data": {
      "text/plain": [
       "[{'Item name': 'string', 'Price': float, 'Quantity': int},\n",
       " {'Item name': 'string', 'Price': float, 'Quantity': int}]"
      ]
     },
     "execution_count": 9,
     "metadata": {},
     "output_type": "execute_result"
    }
   ],
   "source": [
    "[\n",
    "  {\n",
    "    \"Item name\": \"string\",\n",
    "    \"Price\": float,\n",
    "    \"Quantity\": int\n",
    "  },\n",
    "  {\n",
    "    \"Item name\": \"string\",\n",
    "    \"Price\": float,\n",
    "    \"Quantity\": int\n",
    "  },\n",
    "]\n"
   ]
  },
  {
   "cell_type": "code",
   "execution_count": 10,
   "metadata": {},
   "outputs": [
    {
     "name": "stdout",
     "output_type": "stream",
     "text": [
      "{'Snacks': {'Cookie': 0.99, 'Banana': 0.69, 'Apple': 0.49, 'Granola bar': 1.99}, 'Meals': {'Burrito': 4.49, 'Teriyaki Chicken': 9.99, 'Sushi': 7.49, 'Pad Thai': 6.99, 'Pizza': {'Cheese': 8.99, 'Pepperoni': 10.99, 'Vegetarian': 9.99}, 'Burger': {'Chicken': 7.49, 'Beef': 8.49}}, 'Drinks': {'Soda': {'Small': 1.99, 'Medium': 2.49, 'Large': 2.99}, 'Tea': {'Green': 2.49, 'Thai iced': 3.99, 'Irish breakfast': 2.49}, 'Coffee': {'Espresso': 2.99, 'Flat white': 2.99, 'Iced': 3.49}}, 'Dessert': {'Chocolate lava cake': 10.99, 'Cheesecake': {'New York': 4.99, 'Strawberry': 6.49}, 'Australian Pavlova': 9.99, 'Rice pudding': 4.99, 'Fried banana': 4.49}}\n"
     ]
    }
   ],
   "source": [
    "print (menu)"
   ]
  },
  {
   "cell_type": "code",
   "execution_count": 11,
   "metadata": {},
   "outputs": [
    {
     "name": "stdout",
     "output_type": "stream",
     "text": [
      "This is a valid number\n"
     ]
    }
   ],
   "source": [
    "menu_selection = input(\"What do you want to order?\")\n",
    "if menu_selection.isdigit():\n",
    "    print(\"This is a valid number\")\n",
    "else:\n",
    "    print(\"This is not a number\")\n"
   ]
  },
  {
   "cell_type": "code",
   "execution_count": 15,
   "metadata": {},
   "outputs": [
    {
     "name": "stdout",
     "output_type": "stream",
     "text": [
      "{'Cookie': 0.99, 'Banana': 0.69, 'Apple': 0.49, 'Granola bar': 1.99}\n"
     ]
    }
   ],
   "source": [
    "print(f'{menu[\"Snacks\"]}')"
   ]
  }
 ],
 "metadata": {
  "kernelspec": {
   "display_name": "Python 3",
   "language": "python",
   "name": "python3"
  },
  "language_info": {
   "codemirror_mode": {
    "name": "ipython",
    "version": 3
   },
   "file_extension": ".py",
   "mimetype": "text/x-python",
   "name": "python",
   "nbconvert_exporter": "python",
   "pygments_lexer": "ipython3",
   "version": "3.12.0"
  }
 },
 "nbformat": 4,
 "nbformat_minor": 2
}
